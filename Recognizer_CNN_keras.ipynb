{
 "cells": [
  {
   "cell_type": "code",
   "execution_count": 1,
   "metadata": {},
   "outputs": [
    {
     "name": "stderr",
     "output_type": "stream",
     "text": [
      "Using TensorFlow backend.\n"
     ]
    }
   ],
   "source": [
    "# Imports \n",
    "import pandas as pd\n",
    "import numpy as np\n",
    "import keras\n",
    "from keras.models import Sequential\n",
    "from keras.layers import Dense, Dropout, Flatten \n",
    "from keras.layers.convolutional import Conv2D\n",
    "from keras.layers import MaxPooling2D\n",
    "from keras.utils import to_categorical\n",
    "import matplotlib.pyplot as plt\n",
    "from sklearn.model_selection import train_test_split\n",
    "\n",
    "from keras.layers.normalization import BatchNormalization\n",
    "from keras.layers.advanced_activations import LeakyReLU\n"
   ]
  },
  {
   "cell_type": "code",
   "execution_count": 2,
   "metadata": {},
   "outputs": [],
   "source": [
    "# read data sets\n",
    "train_data = pd.read_csv('data/train.csv', sep=',', header=0)\n",
    "test_data = pd.read_csv('data/test.csv', sep=',', header=0) "
   ]
  },
  {
   "cell_type": "code",
   "execution_count": 4,
   "metadata": {},
   "outputs": [],
   "source": [
    "# Reshape, normalize train and test data for CNN (28 x 28 images)\n",
    "\n",
    "train_label = (train_data.iloc[:, 0]).values\n",
    "train = (train_data.iloc[:, 1:]).values\n",
    "test = test_data\n",
    "# print(np.max(train, axis = 0))\n",
    "\n",
    "n_samples = np.shape(train)[0]\n",
    "n_test = np.shape(test)[0]\n",
    "\n",
    "train = train.reshape(n_samples, 28, 28, 1 )\n",
    "test = test.values.reshape(n_test, 28, 28, 1)\n",
    "\n",
    "# Normalize\n",
    "train = train/ 255\n",
    "test = test/ 255\n",
    "\n",
    "# split the train set into train and validation set\n",
    "train,valid,train_label,valid_label = train_test_split(train, train_label, test_size=0.119047, random_state=13)\n"
   ]
  },
  {
   "cell_type": "code",
   "execution_count": 14,
   "metadata": {},
   "outputs": [
    {
     "name": "stdout",
     "output_type": "stream",
     "text": [
      "(37000, 28, 28, 1)\n",
      "(37000, 10)\n",
      "(5000, 28, 28, 1)\n",
      "(5000, 10)\n"
     ]
    }
   ],
   "source": [
    "#  Check data shape\n",
    "\n",
    "print(np.shape(train))\n",
    "print(np.shape(train_label))\n",
    "print(np.shape(valid))\n",
    "print(np.shape(valid_label))"
   ]
  },
  {
   "cell_type": "code",
   "execution_count": 16,
   "metadata": {},
   "outputs": [],
   "source": [
    "# initialize training variables\n",
    "\n",
    "batch_size = 64\n",
    "epochs = 20\n",
    "num_classes = 10"
   ]
  },
  {
   "cell_type": "code",
   "execution_count": 7,
   "metadata": {},
   "outputs": [
    {
     "name": "stdout",
     "output_type": "stream",
     "text": [
      "WARNING:tensorflow:From C:\\Users\\hihiagar\\Anaconda3\\lib\\site-packages\\tensorflow\\python\\framework\\op_def_library.py:263: colocate_with (from tensorflow.python.framework.ops) is deprecated and will be removed in a future version.\n",
      "Instructions for updating:\n",
      "Colocations handled automatically by placer.\n"
     ]
    }
   ],
   "source": [
    "# Initialize and compile the CNN model (without dropout)\n",
    "\n",
    "model = Sequential()\n",
    "train_label = to_categorical(train_label)\n",
    "\n",
    "model.add(Conv2D(32, kernel_size=(3, 3),activation='linear',input_shape=(28,28,1),padding='same'))\n",
    "model.add(LeakyReLU(alpha=0.1))\n",
    "model.add(MaxPooling2D((2, 2),padding='same'))\n",
    "model.add(Conv2D(32, (3, 3), activation='linear',padding='same'))\n",
    "model.add(LeakyReLU(alpha=0.1))\n",
    "model.add(MaxPooling2D(pool_size=(2, 2),padding='same'))\n",
    "model.add(Conv2D(64, (3, 3), activation='linear',padding='same'))\n",
    "model.add(LeakyReLU(alpha=0.1))                  \n",
    "model.add(MaxPooling2D(pool_size=(2, 2),padding='same'))\n",
    "model.add(Flatten())\n",
    "model.add(Dense(128, activation='linear'))\n",
    "model.add(LeakyReLU(alpha=0.1))                  \n",
    "model.add(Dense(num_classes, activation='softmax'))\n",
    "\n",
    "model.compile(loss=keras.losses.categorical_crossentropy, optimizer=keras.optimizers.Adam(),metrics=['accuracy'])\n"
   ]
  },
  {
   "cell_type": "code",
   "execution_count": 9,
   "metadata": {},
   "outputs": [
    {
     "name": "stdout",
     "output_type": "stream",
     "text": [
      "_________________________________________________________________\n",
      "Layer (type)                 Output Shape              Param #   \n",
      "=================================================================\n",
      "conv2d_1 (Conv2D)            (None, 28, 28, 32)        320       \n",
      "_________________________________________________________________\n",
      "leaky_re_lu_1 (LeakyReLU)    (None, 28, 28, 32)        0         \n",
      "_________________________________________________________________\n",
      "max_pooling2d_1 (MaxPooling2 (None, 14, 14, 32)        0         \n",
      "_________________________________________________________________\n",
      "conv2d_2 (Conv2D)            (None, 14, 14, 32)        9248      \n",
      "_________________________________________________________________\n",
      "leaky_re_lu_2 (LeakyReLU)    (None, 14, 14, 32)        0         \n",
      "_________________________________________________________________\n",
      "max_pooling2d_2 (MaxPooling2 (None, 7, 7, 32)          0         \n",
      "_________________________________________________________________\n",
      "conv2d_3 (Conv2D)            (None, 7, 7, 64)          18496     \n",
      "_________________________________________________________________\n",
      "leaky_re_lu_3 (LeakyReLU)    (None, 7, 7, 64)          0         \n",
      "_________________________________________________________________\n",
      "max_pooling2d_3 (MaxPooling2 (None, 4, 4, 64)          0         \n",
      "_________________________________________________________________\n",
      "flatten_1 (Flatten)          (None, 1024)              0         \n",
      "_________________________________________________________________\n",
      "dense_1 (Dense)              (None, 128)               131200    \n",
      "_________________________________________________________________\n",
      "leaky_re_lu_4 (LeakyReLU)    (None, 128)               0         \n",
      "_________________________________________________________________\n",
      "dense_2 (Dense)              (None, 10)                1290      \n",
      "=================================================================\n",
      "Total params: 160,554\n",
      "Trainable params: 160,554\n",
      "Non-trainable params: 0\n",
      "_________________________________________________________________\n"
     ]
    }
   ],
   "source": [
    "# check mmodel parameters at each layer\n",
    "model.summary()"
   ]
  },
  {
   "cell_type": "code",
   "execution_count": 10,
   "metadata": {},
   "outputs": [
    {
     "name": "stdout",
     "output_type": "stream",
     "text": [
      "WARNING:tensorflow:From C:\\Users\\hihiagar\\Anaconda3\\lib\\site-packages\\tensorflow\\python\\ops\\math_ops.py:3066: to_int32 (from tensorflow.python.ops.math_ops) is deprecated and will be removed in a future version.\n",
      "Instructions for updating:\n",
      "Use tf.cast instead.\n",
      "Train on 37000 samples, validate on 5000 samples\n",
      "Epoch 1/20\n",
      "37000/37000 [==============================] - 70s 2ms/step - loss: 0.2340 - acc: 0.9274 - val_loss: 0.0649 - val_acc: 0.9792\n",
      "Epoch 2/20\n",
      "37000/37000 [==============================] - 70s 2ms/step - loss: 0.0559 - acc: 0.9818 - val_loss: 0.0559 - val_acc: 0.9828\n",
      "Epoch 3/20\n",
      "37000/37000 [==============================] - 65s 2ms/step - loss: 0.0395 - acc: 0.9877 - val_loss: 0.0491 - val_acc: 0.9862\n",
      "Epoch 4/20\n",
      "37000/37000 [==============================] - 65s 2ms/step - loss: 0.0297 - acc: 0.9911 - val_loss: 0.0476 - val_acc: 0.9872\n",
      "Epoch 5/20\n",
      "37000/37000 [==============================] - 67s 2ms/step - loss: 0.0219 - acc: 0.9926 - val_loss: 0.0735 - val_acc: 0.9792\n",
      "Epoch 6/20\n",
      "37000/37000 [==============================] - 65s 2ms/step - loss: 0.0177 - acc: 0.9941 - val_loss: 0.0517 - val_acc: 0.9876\n",
      "Epoch 7/20\n",
      "37000/37000 [==============================] - 70s 2ms/step - loss: 0.0167 - acc: 0.9942 - val_loss: 0.0487 - val_acc: 0.9892\n",
      "Epoch 8/20\n",
      "37000/37000 [==============================] - 67s 2ms/step - loss: 0.0131 - acc: 0.9959 - val_loss: 0.0494 - val_acc: 0.9870\n",
      "Epoch 9/20\n",
      "37000/37000 [==============================] - 67s 2ms/step - loss: 0.0108 - acc: 0.9961 - val_loss: 0.0505 - val_acc: 0.9878\n",
      "Epoch 10/20\n",
      "37000/37000 [==============================] - 67s 2ms/step - loss: 0.0111 - acc: 0.9967 - val_loss: 0.0590 - val_acc: 0.9866\n",
      "Epoch 11/20\n",
      "37000/37000 [==============================] - 67s 2ms/step - loss: 0.0105 - acc: 0.9962 - val_loss: 0.0641 - val_acc: 0.9842\n",
      "Epoch 12/20\n",
      "37000/37000 [==============================] - 69s 2ms/step - loss: 0.0078 - acc: 0.9974 - val_loss: 0.0659 - val_acc: 0.9864\n",
      "Epoch 13/20\n",
      "37000/37000 [==============================] - 76s 2ms/step - loss: 0.0085 - acc: 0.9972 - val_loss: 0.0606 - val_acc: 0.9858\n",
      "Epoch 14/20\n",
      "37000/37000 [==============================] - 78s 2ms/step - loss: 0.0073 - acc: 0.9977 - val_loss: 0.0692 - val_acc: 0.9886\n",
      "Epoch 15/20\n",
      "37000/37000 [==============================] - 67s 2ms/step - loss: 0.0074 - acc: 0.9980 - val_loss: 0.0658 - val_acc: 0.9870\n",
      "Epoch 16/20\n",
      "37000/37000 [==============================] - 63s 2ms/step - loss: 0.0046 - acc: 0.9985 - val_loss: 0.0571 - val_acc: 0.9884\n",
      "Epoch 17/20\n",
      "37000/37000 [==============================] - 59s 2ms/step - loss: 0.0049 - acc: 0.9983 - val_loss: 0.0584 - val_acc: 0.9896\n",
      "Epoch 18/20\n",
      "37000/37000 [==============================] - 61s 2ms/step - loss: 0.0089 - acc: 0.9969 - val_loss: 0.0624 - val_acc: 0.9878\n",
      "Epoch 19/20\n",
      "37000/37000 [==============================] - 67s 2ms/step - loss: 0.0041 - acc: 0.9988 - val_loss: 0.0688 - val_acc: 0.9878\n",
      "Epoch 20/20\n",
      "37000/37000 [==============================] - 72s 2ms/step - loss: 0.0044 - acc: 0.9987 - val_loss: 0.0667 - val_acc: 0.9900\n"
     ]
    }
   ],
   "source": [
    "# One-hot for validation labels\n",
    "valid_label = to_categorical(valid_label)\n",
    "\n",
    "# Train the model\n",
    "lossF = model.fit(train, train_label, batch_size=batch_size,epochs=epochs,verbose=1,validation_data=(valid, valid_label))"
   ]
  },
  {
   "cell_type": "code",
   "execution_count": 19,
   "metadata": {},
   "outputs": [
    {
     "data": {
      "image/png": "[encoded data removed]",
      "text/plain": [
       "<Figure size 432x288 with 1 Axes>"
      ]
     },
     "metadata": {
      "needs_background": "light"
     },
     "output_type": "display_data"
    },
    {
     "data": {
      "image/png": "[encoded data removed]",
      "text/plain": [
       "<Figure size 432x288 with 1 Axes>"
      ]
     },
     "metadata": {
      "needs_background": "light"
     },
     "output_type": "display_data"
    }
   ],
   "source": [
    "# Plot training,validation accuracy & loss functions\n",
    "\n",
    "accuracy = lossF.history['acc']\n",
    "val_accuracy = lossF.history['val_acc']\n",
    "loss = lossF.history['loss']\n",
    "val_loss = lossF.history['val_loss']\n",
    "epochs = range(len(accuracy))\n",
    "plt.plot(epochs, accuracy, 'bo', label='Training accuracy')\n",
    "plt.plot(epochs, val_accuracy, 'b', label='Validation accuracy')\n",
    "plt.title('Training and validation accuracy')\n",
    "plt.legend()\n",
    "plt.figure()\n",
    "plt.plot(epochs, loss, 'bo', label='Training loss')\n",
    "plt.plot(epochs, val_loss, 'b', label='Validation loss')\n",
    "plt.title('Training and validation loss')\n",
    "plt.legend()\n",
    "plt.show()"
   ]
  },
  {
   "cell_type": "code",
   "execution_count": 42,
   "metadata": {},
   "outputs": [],
   "source": [
    "# predict the test classes\n",
    "predCl = model.predict_classes(test)"
   ]
  },
  {
   "cell_type": "code",
   "execution_count": 57,
   "metadata": {},
   "outputs": [],
   "source": [
    "#  Write the result to a CSV submission file\n",
    "\n",
    "j=1\n",
    "with open(\"data/result.csv\", \"w+\") as f:\n",
    "    f.write('ImageId,Label')\n",
    "    f.write('\\n')\n",
    "    for i in predCl:\n",
    "        f.write(''+ (str)(j) + ',' + (str)(i))\n",
    "        j+=1\n",
    "        f.write('\\n')"
   ]
  }
 ],
 "metadata": {
  "kernelspec": {
   "display_name": "Python 3",
   "language": "python",
   "name": "python3"
  },
  "language_info": {
   "codemirror_mode": {
    "name": "ipython",
    "version": 3
   },
   "file_extension": ".py",
   "mimetype": "text/x-python",
   "name": "python",
   "nbconvert_exporter": "python",
   "pygments_lexer": "ipython3",
   "version": "3.7.1"
  }
 },
 "nbformat": 4,
 "nbformat_minor": 2
}
